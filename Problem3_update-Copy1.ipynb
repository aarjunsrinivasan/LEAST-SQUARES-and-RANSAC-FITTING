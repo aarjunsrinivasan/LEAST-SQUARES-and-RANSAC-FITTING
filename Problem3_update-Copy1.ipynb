{
 "cells": [
  {
   "cell_type": "code",
   "execution_count": 1,
   "metadata": {},
   "outputs": [
    {
     "data": {
      "text/plain": [
       "array([[   -5,    -5,    -1,     0,     0,     0,   500,   500,   100],\n",
       "       [    0,     0,     0,    -5,    -5,    -1,   500,   500,   100],\n",
       "       [ -150,    -5,    -1,     0,     0,     0, 30000,  1000,   200],\n",
       "       [    0,     0,     0,  -150,    -5,    -1, 12000,   400,    80],\n",
       "       [ -150,  -150,    -1,     0,     0,     0, 33000, 33000,   220],\n",
       "       [    0,     0,     0,  -150,  -150,    -1, 12000, 12000,    80],\n",
       "       [   -5,  -150,    -1,     0,     0,     0,   500, 15000,   100],\n",
       "       [    0,     0,     0,    -5,  -150,    -1,  1000, 30000,   200]])"
      ]
     },
     "execution_count": 1,
     "metadata": {},
     "output_type": "execute_result"
    }
   ],
   "source": [
    "import numpy as np\n",
    "from numpy import linalg \n",
    "x1,y1=5,5\n",
    "xp1,yp1=100,100\n",
    "x2,y2=150,5\n",
    "xp2,yp2=200,80\n",
    "x3,y3=150,150\n",
    "xp3,yp3=220,80\n",
    "x4,y4=5,150\n",
    "xp4,yp4=100,200\n",
    "A=np.array([[-x1,-y1,-1,0,0,0,x1*xp1,y1*xp1,xp1],\n",
    "          [0,0,0,-x1,-y1,-1,x1*yp1,y1*yp1,yp1],\n",
    "          [-x2,-y2,-1,0,0,0,x2*xp2,y2*xp2,xp2],\n",
    "          [0,0,0,-x2,-y2,-1,x2*yp2,y2*yp2,yp2],\n",
    "          [-x3,-y3,-1,0,0,0,x3*xp3,y3*xp3,xp3],\n",
    "          [0,0,0,-x3,-y3,-1,x3*yp3,y3*yp3,yp3],\n",
    "          [-x4,-y4,-1,0,0,0,x4*xp4,y4*xp4,xp4],\n",
    "          [0,0,0,-x4,-y4,-1,x4*yp4,y4*yp4,yp4]])\n",
    "# A is 8*9\n",
    "A"
   ]
  },
  {
   "cell_type": "code",
   "execution_count": 22,
   "metadata": {},
   "outputs": [
    {
     "data": {
      "text/plain": [
       "array([[ 3.50321685e-03,  3.37762918e-03, -8.13642090e-01],\n",
       "       [-2.55301166e-03, -2.92733046e-03,  5.81332763e-01],\n",
       "       [-3.66202493e-07, -2.00680613e-06,  9.16829699e-06]])"
      ]
     },
     "execution_count": 22,
     "metadata": {},
     "output_type": "execute_result"
    }
   ],
   "source": [
    "RA=np.matmul(A.transpose(),A)#right singular vectors 9*9(V)\n",
    "LA=np.matmul(A,A.transpose())#left singular vectors 8*8(U)\n",
    "w1, v1 = linalg.eig(RA)\n",
    "#Sorting the eig values and vectors in descending order\n",
    "w1 = w1[w1.argsort()[::-1]]\n",
    "v1=v1[w1.argsort()[::-1]]\n",
    "\n",
    "w2, v2 = linalg.eig(LA)\n",
    "w2 = w2[w2.argsort()[::-1]]\n",
    "v2=v2[w2.argsort()[::-1]]\n",
    "H=np.reshape(v1[:,8],(3,3))#Homography matrix\n",
    "H\n"
   ]
  },
  {
   "cell_type": "code",
   "execution_count": 5,
   "metadata": {},
   "outputs": [
    {
     "data": {
      "text/plain": [
       "array([ 0.77896818, -0.55420073,  0.26011219, -0.18820805, -0.29477707,\n",
       "        0.21297591,  0.26011327, -0.18820486])"
      ]
     },
     "execution_count": 5,
     "metadata": {},
     "output_type": "execute_result"
    }
   ],
   "source": [
    "np.dot(A,v1[:,8])"
   ]
  },
  {
   "cell_type": "code",
   "execution_count": 16,
   "metadata": {},
   "outputs": [],
   "source": [
    "import numpy as np\n",
    "from numpy import linalg \n",
    "x1,y1=5,5\n",
    "xp1,yp1=100,100\n",
    "x2,y2=150,5\n",
    "xp2,yp2=200,80\n",
    "x3,y3=150,150\n",
    "xp3,yp3=220,80\n",
    "x4,y4=5,150\n",
    "xp4,yp4=100,200\n",
    "A=np.array([[-x1,-y1,-1,0,0,0,x1*xp1,y1*xp1,xp1],\n",
    "          [0,0,0,-x1,-y1,-1,x1*yp1,y1*yp1,yp1],\n",
    "          [-x2,-y2,-1,0,0,0,x2*xp2,y2*xp2,xp2],\n",
    "          [0,0,0,-x2,-y2,-1,x2*yp2,y2*yp2,yp2],\n",
    "          [-x3,-y3,-1,0,0,0,x3*xp3,y3*xp3,xp3],\n",
    "          [0,0,0,-x3,-y3,-1,x3*yp3,y3*yp3,yp3],\n",
    "          [-x4,-y4,-1,0,0,0,x4*xp4,y4*xp4,xp4],\n",
    "          [0,0,0,-x4,-y4,-1,x4*yp4,y4*yp4,yp4]])\n",
    "# A is 8*9\n",
    "\n",
    "RA=np.matmul(A.transpose(),A)#right singular vectors 9*9(V)\n",
    "LA=np.matmul(A,A.transpose())#leftt singular vectors 8*8(U)\n",
    "w1, v1 = linalg.eig(RA)\n",
    "#Sorting the eig values and vectors in descending order\n",
    "w1 = w1[w1.argsort()[::-1]]\n",
    "v1=v1[w1.argsort()[::-1]]\n",
    "\n",
    "w2, v2 = linalg.eig(LA)\n",
    "w2 = w2[w2.argsort()[::-1]]\n",
    "v2=v2[w2.argsort()[::-1]]\n",
    "H=np.reshape(v1[:,8],(3,3))#Homography matrix"
   ]
  },
  {
   "cell_type": "code",
   "execution_count": 17,
   "metadata": {},
   "outputs": [
    {
     "data": {
      "text/plain": [
       "array([[ 3.50321685e-03,  3.37762918e-03, -8.13642090e-01],\n",
       "       [-2.55301166e-03, -2.92733046e-03,  5.81332763e-01],\n",
       "       [-3.66202493e-07, -2.00680613e-06,  9.16829699e-06]])"
      ]
     },
     "execution_count": 17,
     "metadata": {},
     "output_type": "execute_result"
    }
   ],
   "source": [
    "H"
   ]
  },
  {
   "cell_type": "code",
   "execution_count": 18,
   "metadata": {},
   "outputs": [
    {
     "name": "stderr",
     "output_type": "stream",
     "text": [
      "D:\\AnacondaPython\\lib\\site-packages\\ipykernel_launcher.py:9: RuntimeWarning: invalid value encountered in sqrt\n",
      "  if __name__ == '__main__':\n"
     ]
    },
    {
     "data": {
      "text/plain": [
       "array([[4.67160061e+04, 0.00000000e+00, 0.00000000e+00, 0.00000000e+00,\n",
       "        0.00000000e+00, 0.00000000e+00, 0.00000000e+00, 0.00000000e+00,\n",
       "        0.00000000e+00],\n",
       "       [0.00000000e+00, 3.18041265e+04, 0.00000000e+00, 0.00000000e+00,\n",
       "        0.00000000e+00, 0.00000000e+00, 0.00000000e+00, 0.00000000e+00,\n",
       "        0.00000000e+00],\n",
       "       [0.00000000e+00, 0.00000000e+00, 2.21610417e+02, 0.00000000e+00,\n",
       "        0.00000000e+00, 0.00000000e+00, 0.00000000e+00, 0.00000000e+00,\n",
       "        0.00000000e+00],\n",
       "       [0.00000000e+00, 0.00000000e+00, 0.00000000e+00, 1.47084206e+02,\n",
       "        0.00000000e+00, 0.00000000e+00, 0.00000000e+00, 0.00000000e+00,\n",
       "        0.00000000e+00],\n",
       "       [0.00000000e+00, 0.00000000e+00, 0.00000000e+00, 0.00000000e+00,\n",
       "        1.36318729e+02, 0.00000000e+00, 0.00000000e+00, 0.00000000e+00,\n",
       "        0.00000000e+00],\n",
       "       [0.00000000e+00, 0.00000000e+00, 0.00000000e+00, 0.00000000e+00,\n",
       "        0.00000000e+00, 4.72298815e+01, 0.00000000e+00, 0.00000000e+00,\n",
       "        0.00000000e+00],\n",
       "       [0.00000000e+00, 0.00000000e+00, 0.00000000e+00, 0.00000000e+00,\n",
       "        0.00000000e+00, 0.00000000e+00, 2.13798966e+00, 0.00000000e+00,\n",
       "        0.00000000e+00],\n",
       "       [0.00000000e+00, 0.00000000e+00, 0.00000000e+00, 0.00000000e+00,\n",
       "        0.00000000e+00, 0.00000000e+00, 0.00000000e+00,            nan,\n",
       "        0.00000000e+00]])"
      ]
     },
     "execution_count": 18,
     "metadata": {},
     "output_type": "execute_result"
    }
   ],
   "source": [
    "# A=UDV'\n",
    "#A is 8*9\n",
    "# U is 8*8 right singular vectors\n",
    "# D is 8*9 diagonal matrix \n",
    "# V is 9*9 left singular vectors\n",
    "U=v2\n",
    "#V=v1.transpose()\n",
    "V=v1\n",
    "D=np.diag(np.sqrt(w2))\n",
    "D=np.concatenate((D,np.zeros((8,1))), axis=1)\n"
   ]
  },
  {
   "cell_type": "code",
   "execution_count": 19,
   "metadata": {},
   "outputs": [
    {
     "data": {
      "text/plain": [
       "array([ 2.18238522e+09,  1.01150246e+09,  4.91111768e+04,  2.16337636e+04,\n",
       "        1.85827958e+04,  2.23066171e+03,  4.57099977e+00, -2.85018513e+09])"
      ]
     },
     "execution_count": 19,
     "metadata": {},
     "output_type": "execute_result"
    }
   ],
   "source": [
    "w2"
   ]
  },
  {
   "cell_type": "code",
   "execution_count": 20,
   "metadata": {},
   "outputs": [
    {
     "data": {
      "text/plain": [
       "array([ 1.31952413e+06,  7.03096407e+04,  2.68500021e+04,  2.55786588e+04,\n",
       "        8.43240829e+03,  1.23446978e+00,  1.01580774e-01, -6.70428391e+08,\n",
       "       -3.28219549e+09])"
      ]
     },
     "execution_count": 20,
     "metadata": {},
     "output_type": "execute_result"
    }
   ],
   "source": [
    "w1"
   ]
  },
  {
   "cell_type": "code",
   "execution_count": null,
   "metadata": {},
   "outputs": [],
   "source": []
  }
 ],
 "metadata": {
  "kernelspec": {
   "display_name": "Python 3",
   "language": "python",
   "name": "python3"
  },
  "language_info": {
   "codemirror_mode": {
    "name": "ipython",
    "version": 3
   },
   "file_extension": ".py",
   "mimetype": "text/x-python",
   "name": "python",
   "nbconvert_exporter": "python",
   "pygments_lexer": "ipython3",
   "version": "3.7.1"
  }
 },
 "nbformat": 4,
 "nbformat_minor": 2
}
