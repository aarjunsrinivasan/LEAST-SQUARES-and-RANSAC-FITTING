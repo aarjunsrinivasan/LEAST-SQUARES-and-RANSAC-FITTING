{
 "cells": [
  {
   "cell_type": "code",
   "execution_count": 1,
   "metadata": {},
   "outputs": [],
   "source": [
    "\n",
    "\n",
    "\n",
    "import numpy as np\n",
    "x1,y1=5,5\n",
    "xp1,yp1=100,100\n",
    "x2,y2=150,5\n",
    "xp2,yp2=200,80\n",
    "x3,y3=150,150\n",
    "xp3,yp3=220,80\n",
    "x4,y4=5,150\n",
    "xp4,yp4=100,200\n",
    "\n"
   ]
  },
  {
   "cell_type": "code",
   "execution_count": 2,
   "metadata": {},
   "outputs": [
    {
     "data": {
      "text/plain": [
       "array([[   -5,    -5,    -1,     0,     0,     0,   500,   500,   100],\n",
       "       [    0,     0,     0,    -5,    -5,    -1,   500,   500,   100],\n",
       "       [ -150,    -5,    -1,     0,     0,     0, 30000,  1000,   200],\n",
       "       [    0,     0,     0,  -150,    -5,    -1, 12000,   400,    80],\n",
       "       [ -150,  -150,    -1,     0,     0,     0, 33000, 33000,   220],\n",
       "       [    0,     0,     0,  -150,  -150,    -1, 12000, 12000,    80],\n",
       "       [   -5,  -150,    -1,     0,     0,     0,   500, 15000,   100],\n",
       "       [    0,     0,     0,    -5,  -150,    -1,  1000, 30000,   200]])"
      ]
     },
     "execution_count": 2,
     "metadata": {},
     "output_type": "execute_result"
    }
   ],
   "source": [
    "A=np.array([[-x1,-y1,-1,0,0,0,x1*xp1,y1*xp1,xp1],\n",
    "          [0,0,0,-x1,-y1,-1,x1*yp1,y1*yp1,yp1],\n",
    "          [-x2,-y2,-1,0,0,0,x2*xp2,y2*xp2,xp2],\n",
    "          [0,0,0,-x2,-y2,-1,x2*yp2,y2*yp2,yp2],\n",
    "          [-x3,-y3,-1,0,0,0,x3*xp3,y3*xp3,xp3],\n",
    "          [0,0,0,-x3,-y3,-1,x3*yp3,y3*yp3,yp3],\n",
    "          [-x4,-y4,-1,0,0,0,x4*xp4,y4*xp4,xp4],\n",
    "           [0,0,0,-x4,-y4,-1,x4*yp4,y4*yp4,yp4]])\n",
    "A"
   ]
  },
  {
   "cell_type": "code",
   "execution_count": 3,
   "metadata": {},
   "outputs": [
    {
     "data": {
      "text/plain": [
       "(9, 8)"
      ]
     },
     "execution_count": 3,
     "metadata": {},
     "output_type": "execute_result"
    }
   ],
   "source": [
    "At=A.transpose()\n",
    "RA=np.dot(At,A)\n",
    "RA.shape\n",
    "A.shape\n",
    "At.shape"
   ]
  },
  {
   "cell_type": "code",
   "execution_count": 4,
   "metadata": {},
   "outputs": [],
   "source": [
    "from numpy import linalg as LA"
   ]
  },
  {
   "cell_type": "code",
   "execution_count": 5,
   "metadata": {},
   "outputs": [],
   "source": [
    "w, v = LA.eig(RA)"
   ]
  },
  {
   "cell_type": "code",
   "execution_count": 6,
   "metadata": {},
   "outputs": [
    {
     "data": {
      "text/plain": [
       "array([ 3.62583363e+09,  1.01280011e+09,  6.80651927e+04,  3.46776193e+04,\n",
       "        2.12012335e+04,  3.70648899e+03,  1.52001454e+01,  6.56490976e-01,\n",
       "       -1.66509311e-10])"
      ]
     },
     "execution_count": 6,
     "metadata": {},
     "output_type": "execute_result"
    }
   ],
   "source": [
    "w"
   ]
  },
  {
   "cell_type": "code",
   "execution_count": 7,
   "metadata": {},
   "outputs": [
    {
     "data": {
      "text/plain": [
       "array([[ 2.84043894e-03,  3.14430147e-03, -2.46384735e-01,\n",
       "        -1.58554932e-01, -1.75245114e-01,  1.76705635e-01,\n",
       "         9.13738625e-01, -1.20261073e-01,  5.31056349e-02],\n",
       "       [ 2.42121739e-03, -1.28321626e-03, -3.77000733e-01,\n",
       "         1.76600215e-01,  6.89508147e-01,  5.90273326e-01,\n",
       "        -5.29344506e-02, -2.23230961e-03, -4.91718842e-03],\n",
       "       [ 2.20891154e-05,  1.13495064e-05, -2.37217168e-03,\n",
       "        -3.65660431e-03,  5.19584361e-03,  7.52000216e-03,\n",
       "         6.59901593e-02,  7.85970681e-01,  6.14648552e-01],\n",
       "       [ 1.09109680e-03,  1.17416448e-03,  6.61240940e-01,\n",
       "         3.41172744e-01,  5.01749740e-01, -2.32499365e-01,\n",
       "         3.72052358e-01, -4.25903577e-02,  1.77018783e-02],\n",
       "       [ 1.63479471e-03, -2.90636016e-03,  5.74279813e-01,\n",
       "        -7.10405325e-02, -3.14549320e-01,  7.49883366e-01,\n",
       "        -6.19835401e-02,  4.58785877e-03, -3.93375074e-03],\n",
       "       [ 1.33908907e-05, -1.14077892e-05,  5.80190908e-03,\n",
       "        -2.15181510e-03,  2.88147957e-03, -5.73504703e-03,\n",
       "        -1.22489909e-01, -6.04930528e-01,  7.86750146e-01],\n",
       "       [-6.96053715e-01, -7.17961695e-01, -7.57487349e-05,\n",
       "        -3.79564118e-03,  2.50334194e-03, -1.50223526e-04,\n",
       "         4.37766998e-03, -5.55196293e-04,  2.36025044e-04],\n",
       "       [-7.17950893e-01,  6.96067270e-01,  1.62813209e-03,\n",
       "        -3.77529395e-03,  2.49754245e-03,  3.65599795e-03,\n",
       "        -6.00114914e-04,  3.48250734e-05, -4.91718842e-05],\n",
       "       [-6.16016024e-03,  2.29933343e-05, -1.73453679e-01,\n",
       "         9.06741660e-01, -3.78319687e-01,  6.21986452e-02,\n",
       "         2.52338778e-02, -2.47794677e-03,  7.62164204e-03]])"
      ]
     },
     "execution_count": 7,
     "metadata": {},
     "output_type": "execute_result"
    }
   ],
   "source": [
    "v"
   ]
  },
  {
   "cell_type": "code",
   "execution_count": 8,
   "metadata": {},
   "outputs": [],
   "source": [
    "i=np.argmin(w)"
   ]
  },
  {
   "cell_type": "code",
   "execution_count": 106,
   "metadata": {},
   "outputs": [
    {
     "data": {
      "text/plain": [
       "-1.6650931116702573e-10"
      ]
     },
     "execution_count": 106,
     "metadata": {},
     "output_type": "execute_result"
    }
   ],
   "source": [
    "w[8]"
   ]
  },
  {
   "cell_type": "code",
   "execution_count": 107,
   "metadata": {},
   "outputs": [
    {
     "data": {
      "text/plain": [
       "(9, 9)"
      ]
     },
     "execution_count": 107,
     "metadata": {},
     "output_type": "execute_result"
    }
   ],
   "source": [
    "v.shape"
   ]
  },
  {
   "cell_type": "code",
   "execution_count": 110,
   "metadata": {},
   "outputs": [],
   "source": [
    "X=v[:,i]"
   ]
  },
  {
   "cell_type": "code",
   "execution_count": 9,
   "metadata": {},
   "outputs": [
    {
     "ename": "NameError",
     "evalue": "name 'X' is not defined",
     "output_type": "error",
     "traceback": [
      "\u001b[0;31m---------------------------------------------------------------------------\u001b[0m",
      "\u001b[0;31mNameError\u001b[0m                                 Traceback (most recent call last)",
      "\u001b[0;32m<ipython-input-9-94bde3a01bb8>\u001b[0m in \u001b[0;36m<module>\u001b[0;34m\u001b[0m\n\u001b[0;32m----> 1\u001b[0;31m \u001b[0mnp\u001b[0m\u001b[0;34m.\u001b[0m\u001b[0mdot\u001b[0m\u001b[0;34m(\u001b[0m\u001b[0mA\u001b[0m\u001b[0;34m,\u001b[0m\u001b[0mX\u001b[0m\u001b[0;34m)\u001b[0m\u001b[0;34m\u001b[0m\u001b[0;34m\u001b[0m\u001b[0m\n\u001b[0m",
      "\u001b[0;31mNameError\u001b[0m: name 'X' is not defined"
     ]
    }
   ],
   "source": [
    "np.dot(A,X)"
   ]
  },
  {
   "cell_type": "code",
   "execution_count": null,
   "metadata": {},
   "outputs": [],
   "source": []
  }
 ],
 "metadata": {
  "kernelspec": {
   "display_name": "Python 3",
   "language": "python",
   "name": "python3"
  },
  "language_info": {
   "codemirror_mode": {
    "name": "ipython",
    "version": 3
   },
   "file_extension": ".py",
   "mimetype": "text/x-python",
   "name": "python",
   "nbconvert_exporter": "python",
   "pygments_lexer": "ipython3",
   "version": "3.7.6"
  }
 },
 "nbformat": 4,
 "nbformat_minor": 4
}
