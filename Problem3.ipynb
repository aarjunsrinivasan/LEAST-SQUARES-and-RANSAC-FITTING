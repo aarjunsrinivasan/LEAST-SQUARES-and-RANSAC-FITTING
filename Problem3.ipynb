{
 "cells": [
  {
   "cell_type": "code",
   "execution_count": null,
   "metadata": {},
   "outputs": [],
   "source": [
    "import numpy as np\n",
    "from numpy import linalg \n",
    "x1,y1=5,5\n",
    "xp1,yp1=100,100\n",
    "x2,y2=150,5\n",
    "xp2,yp2=200,80\n",
    "x3,y3=150,150\n",
    "xp3,yp3=220,80\n",
    "x4,y4=5,150\n",
    "xp4,yp4=100,200\n",
    "A=np.array([[-x1,-y1,-1,0,0,0,x1*xp1,y1*xp1,xp1],\n",
    "          [0,0,0,-x1,-y1,-1,x1*yp1,y1*yp1,yp1],\n",
    "          [-x2,-y2,-1,0,0,0,x2*xp2,y2*xp2,xp2],\n",
    "          [0,0,0,-x2,-y2,-1,x2*yp2,y2*yp2,yp2],\n",
    "          [-x3,-y3,-1,0,0,0,x3*xp3,y3*xp3,xp3],\n",
    "          [0,0,0,-x3,-y3,-1,x3*yp3,y3*yp3,yp3],\n",
    "          [-x4,-y4,-1,0,0,0,x4*xp4,y4*xp4,xp4],\n",
    "          [0,0,0,-x4,-y4,-1,x4*yp4,y4*yp4,yp4]])\n",
    "At=A.transpose()\n",
    "RA=np.matmul(At,A)#right singular vector \n",
    "LA=np.matmul(A,At)#left singular vector\n",
    "w1, v1 = linalg.eig(RA)\n",
    "X=v1[:,np.argmin(w1)]\n",
    "H=np.reshape(X,(3,3))#Homography matrix\n",
    "######  Comput SVD for A ###########\n",
    "w1[::-1].sort()\n",
    "U=v1\n",
    "S=np.diag(np.sqrt(w2))\n",
    "V="
   ]
  }
 ],
 "metadata": {
  "kernelspec": {
   "display_name": "Python 3",
   "language": "python",
   "name": "python3"
  },
  "language_info": {
   "codemirror_mode": {
    "name": "ipython",
    "version": 3
   },
   "file_extension": ".py",
   "mimetype": "text/x-python",
   "name": "python",
   "nbconvert_exporter": "python",
   "pygments_lexer": "ipython3",
   "version": "3.7.6"
  }
 },
 "nbformat": 4,
 "nbformat_minor": 4
}
